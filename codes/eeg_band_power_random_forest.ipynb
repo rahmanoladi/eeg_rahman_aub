{
 "cells": [
  {
   "cell_type": "code",
   "execution_count": 1,
   "id": "abbc777d",
   "metadata": {},
   "outputs": [
    {
     "name": "stdout",
     "output_type": "stream",
     "text": [
      "https://data.mendeley.com/public-files/datasets/5pc2j46cbc/files/169dca1c-4992-43d3-9c94-030de59c2524/file_downloaded\n"
     ]
    },
    {
     "ename": "NameError",
     "evalue": "name 'x_train' is not defined",
     "output_type": "error",
     "traceback": [
      "\u001b[1;31m---------------------------------------------------------------------------\u001b[0m",
      "\u001b[1;31mNameError\u001b[0m                                 Traceback (most recent call last)",
      "\u001b[1;32m<ipython-input-1-ae3685f3329e>\u001b[0m in \u001b[0;36m<module>\u001b[1;34m\u001b[0m\n\u001b[0;32m     54\u001b[0m \u001b[1;31m#y_test = load_data_from_url(url_y_test)\u001b[0m\u001b[1;33m\u001b[0m\u001b[1;33m\u001b[0m\u001b[1;33m\u001b[0m\u001b[0m\n\u001b[0;32m     55\u001b[0m \u001b[1;33m\u001b[0m\u001b[0m\n\u001b[1;32m---> 56\u001b[1;33m \u001b[0mfreqs\u001b[0m\u001b[1;33m,\u001b[0m \u001b[0mpsd_train\u001b[0m \u001b[1;33m=\u001b[0m \u001b[0mget_freqs_and_psd\u001b[0m\u001b[1;33m(\u001b[0m\u001b[0mx_train\u001b[0m\u001b[1;33m)\u001b[0m\u001b[1;33m\u001b[0m\u001b[1;33m\u001b[0m\u001b[0m\n\u001b[0m\u001b[0;32m     57\u001b[0m \u001b[0mn_bands\u001b[0m \u001b[1;33m=\u001b[0m \u001b[1;36m11\u001b[0m\u001b[1;33m\u001b[0m\u001b[1;33m\u001b[0m\u001b[0m\n\u001b[0;32m     58\u001b[0m \u001b[1;33m\u001b[0m\u001b[0m\n",
      "\u001b[1;31mNameError\u001b[0m: name 'x_train' is not defined"
     ]
    }
   ],
   "source": [
    "import io\n",
    "import requests\n",
    "import os\n",
    "import numpy as np\n",
    "\n",
    "from scipy import signal\n",
    "from scipy.integrate import simps\n",
    "\n",
    "from sklearn import svm, metrics\n",
    "from sklearn.neighbors import KNeighborsClassifier\n",
    "from sklearn.ensemble import RandomForestClassifier\n",
    "from sklearn.ensemble import GradientBoostingClassifier\n",
    "\n",
    "\n",
    "# Function to load a numpy array from a caller-specified URL:\n",
    "def load_data_from_url(url):\n",
    "    response = requests.get(url)\n",
    "    response.raise_for_status()\n",
    "    data = np.load(io.BytesIO(response.content)) \n",
    "    return data\n",
    "\n",
    "\n",
    "# Function to compute the Power spectral density (PSD) of  a set of input signals stored in\n",
    "# matrix[sample_index, channel_index, time_index], and return the PSD at some specific frequencies, along with those frequencies:   \n",
    "\n",
    "def get_freqs_and_psd(matrix):\n",
    "    # Define sampling frequency and window length; compute number of samples per window and use Welch function to compute \n",
    "    # psd at specific frequencies:\n",
    "    sf = 200\n",
    "    win_len = 4\n",
    "    n_per_seg = win_len * sf\n",
    "    freqs, psd = signal.welch(matrix, sf, nperseg=n_per_seg) \n",
    "    return freqs, psd\n",
    "\n",
    "# Function to compute band power for a specific frequency interval/band given by [low, high], using the frequncies and PSD\n",
    "# returned by function get_freqs_and_psd above.\n",
    "def get_band_power(freqs, psd, low, high):\n",
    "    freq_res = freqs[1] - freqs[0]\n",
    "\n",
    "    # Find indices corresponding to the boundaries of the band:\n",
    "    idx_band = np.logical_and(freqs >= low, freqs <= high)\n",
    "\n",
    "    # Integral approximation of the spectrum using Simpson's rule:\n",
    "    band_power = simps(psd[idx_band], dx=freq_res)  \n",
    "    return band_power\n",
    "    \n",
    "  \n",
    "# Load training and test data from their respective URLs:\n",
    "\n",
    "url_x_train = 'https://data.mendeley.com/public-files/datasets/5pc2j46cbc/files/169dca1c-4992-43d3-9c94-030de59c2524/file_downloaded'\n",
    "url_y_train = 'https://data.mendeley.com/public-files/datasets/5pc2j46cbc/files/62accb90-a1b2-4b50-bde5-fbe6096f165f/file_downloaded'\n",
    "   \n",
    "url_x_test = 'https://data.mendeley.com/public-files/datasets/5pc2j46cbc/files/93b81166-0e48-4dc0-ac20-b7167f7606c5/file_downloaded'\n",
    "url_y_test = 'https://data.mendeley.com/public-files/datasets/5pc2j46cbc/files/adf1c2fd-81ef-4f87-86cc-56d75bba8c31/file_downloaded'\n",
    "\n",
    "x_train = load_data_from_url(url_x_train)\n",
    "y_train = load_data_from_url(url_y_train)\n",
    "\n",
    "x_test = load_data_from_url(url_x_test)\n",
    "y_test = load_data_from_url(url_y_test)"
   ]
  },
  {
   "cell_type": "code",
   "execution_count": null,
   "id": "8c43e765",
   "metadata": {},
   "outputs": [],
   "source": [
    "# Compute PSD at a set of freqs (i.e frequencies) for the training data:\n",
    "\n",
    "freqs, psd_train = get_freqs_and_psd(x_train)\n",
    "\n",
    "# Define number of bands, n_bands, and divide freqs into n_bands. Then compute band power for each of the n_bands:  \n",
    "\n",
    "n_bands = 11\n",
    "band_seq = [x for x in np.linspace( np.min(freqs), np.max(freqs), n_bands + 1 )]\n",
    "low, high = band_seq[0], band_seq[1]\n",
    "\n",
    "n_samps, n_channs, f = psd_train.shape\n",
    "band_power_train = np.zeros((n_samps, n_channs, n_bands))\n",
    "\n",
    "for i in range(n_samps):\n",
    "    for j in range(n_channs):\n",
    "        for k in range(n_bands):\n",
    "            band_power_train[i, j, k] = get_band_power(freqs, psd_train[i,j,:], band_seq[k], band_seq[k+1])\n",
    "            "
   ]
  },
  {
   "cell_type": "code",
   "execution_count": null,
   "id": "a5bc35fb",
   "metadata": {},
   "outputs": [],
   "source": [
    "\n"
   ]
  },
  {
   "cell_type": "code",
   "execution_count": null,
   "id": "dfaa5a6d",
   "metadata": {},
   "outputs": [],
   "source": [
    "# Compute PSD and band powers for test data, similar to how they were computed for training data above:\n",
    "\n",
    "freqs_test, psd_test = get_freqs_and_psd(x_test)\n",
    "print(freqs.shape, psd_test.shape, freqs_test.shape)\n",
    "band_seq = [x for x in np.linspace( np.min(freqs_test), np.max(freqs_test), n_bands + 1 )]\n",
    "low, high = band_seq[0], band_seq[1]\n",
    "\n",
    "n_samps, n_channs, f = psd_test.shape\n",
    "band_power_test = np.zeros((n_samps, n_channs, n_bands))\n",
    "for i in range(n_samps):\n",
    "    for j in range(n_channs):\n",
    "        for k in range(n_bands):\n",
    "            band_power_test[i, j, k] = get_band_power(freqs_test, psd_test[i,j,:], band_seq[k], band_seq[k+1])\n",
    "                    \n",
    "print('n_bands: ', n_bands)"
   ]
  },
  {
   "cell_type": "code",
   "execution_count": null,
   "id": "3e295e1a",
   "metadata": {},
   "outputs": [],
   "source": [
    "# Using SKlearn's implementation, train a random forest classifier on the training set band power features computed above. \n",
    "# Then use the trained classifier to make predictions for the training set band power features as well as the test set band\n",
    "# power features:\n",
    "\n",
    "# Reshape training set band power features' matrix to fit the format expected by Sklearn:\n",
    "n_samps_train, n_channs, n_bands = band_power_train.shape\n",
    "feats_train = band_power_train.reshape(n_samps_train, n_channs*n_bands)\n",
    "\n",
    "# Reshape test set band power features' matrix to fit the format expected by Sklearn:\n",
    "n_samps_test, n_channs, n_bands = band_power_test.shape\n",
    "feats_test = band_power_test.reshape(n_samps_test, n_channs*n_bands)\n",
    "\n",
    "\n",
    "# Initialize RandomForestClassifier:\n",
    "clf = RandomForestClassifier()\n",
    "\n",
    "#Train classifier using the training data and associated targets:\n",
    "clf.fit(feats_train, y_train)\n",
    "\n",
    "# Use trained classifier to make predictions for the training data:\n",
    "predictions_train = clf.predict(feats_train)\n",
    "\n",
    "# Use trained classifier to make predictions for the test data:\n",
    "predictions_test = clf.predict(feats_test)\n",
    "\n",
    "# Compute and output classification metrics for the training data:\n",
    "\n",
    "classif_report_train = metrics.classification_report(y_train, predictions_train)\n",
    "conf_matrix_train = metrics.confusion_matrix(y_train, predictions_train)\n",
    "print('classif_report_train: ', classif_report_train)\n",
    "print('conf_matrix_train: ', conf_matrix_train)\n",
    "     \n",
    "# Compute and output classification metrics for the test data:\n",
    "classif_report_test = metrics.classification_report(y_test, predictions_test)\n",
    "conf_matrix_test = metrics.confusion_matrix(y_test, predictions_test)\n",
    "print('classif_report_test: ', classif_report_test)\n",
    "print('conf_matrix_test: ', conf_matrix_test)\n",
    "            "
   ]
  },
  {
   "cell_type": "code",
   "execution_count": null,
   "id": "59e778dc",
   "metadata": {},
   "outputs": [],
   "source": []
  }
 ],
 "metadata": {
  "kernelspec": {
   "display_name": "matplot_env",
   "language": "python",
   "name": "matplot_env"
  },
  "language_info": {
   "codemirror_mode": {
    "name": "ipython",
    "version": 3
   },
   "file_extension": ".py",
   "mimetype": "text/x-python",
   "name": "python",
   "nbconvert_exporter": "python",
   "pygments_lexer": "ipython3",
   "version": "3.6.13"
  }
 },
 "nbformat": 4,
 "nbformat_minor": 5
}
